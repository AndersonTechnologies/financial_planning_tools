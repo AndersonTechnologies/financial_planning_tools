{
 "cells": [
  {
   "cell_type": "code",
   "execution_count": 96,
   "id": "7be45271-c93b-4326-a812-260d672bcfd7",
   "metadata": {},
   "outputs": [],
   "source": [
    "# initial imports\n",
    "\n",
    "import pandas as pd\n",
    "\n",
    "import os\n",
    "\n",
    "import requests\n",
    "\n",
    "from dotenv import load_dotenv\n",
    "\n",
    "import alpaca_trade_api as trade_api\n",
    "\n",
    "from MCSimulation import MCSimulation\n",
    "\n",
    "import json\n",
    "\n",
    "%matplotlib inline"
   ]
  },
  {
   "cell_type": "code",
   "execution_count": 97,
   "id": "df538702-9d97-4450-9dca-d1edafbaa1d9",
   "metadata": {},
   "outputs": [
    {
     "data": {
      "text/plain": [
       "True"
      ]
     },
     "execution_count": 97,
     "metadata": {},
     "output_type": "execute_result"
    }
   ],
   "source": [
    "#loading .env variables\n",
    "\n",
    "load_dotenv(\"D:/git/UTOR-VIRT-FIN-PT-05-2022-U-LOLC/Resources/env code and MCS/.env.txt\")"
   ]
  },
  {
   "cell_type": "code",
   "execution_count": 98,
   "id": "67646c97-f0a9-4a19-89d5-0af5f4bd2347",
   "metadata": {},
   "outputs": [],
   "source": [
    "# setting crypto variable values\n",
    "\n",
    "my_btc = 1.2\n",
    "\n",
    "my_eth = 5.3"
   ]
  },
  {
   "cell_type": "code",
   "execution_count": 99,
   "id": "53dfa68b-a6c3-4991-b213-9c538adfc0f5",
   "metadata": {},
   "outputs": [],
   "source": [
    "# crypto url\n",
    "\n",
    "btc_url = \"https://api.alternative.me/v2/ticker/Bitcoin/?convert=CAD\"\n",
    "\n",
    "eth_url = \"https://api.alternative.me/v2/ticker/Ethereum/?convert=CAD\""
   ]
  },
  {
   "cell_type": "code",
   "execution_count": 100,
   "id": "880a9391-206d-48f0-8422-29f03d0b433c",
   "metadata": {},
   "outputs": [
    {
     "name": "stdout",
     "output_type": "stream",
     "text": [
      "The current value of your 1.2 BTC is $31320.01\n",
      "The current value of your 5.3 ETH is $7780.05\n"
     ]
    }
   ],
   "source": [
    "# current btc price\n",
    "\n",
    "response_data_btc = requests.get(btc_url).json()\n",
    "\n",
    "btc_value = response_data_btc[\"data\"][\"1\"][\"quotes\"][\"CAD\"][\"price\"]\n",
    "\n",
    "# current eth price\n",
    "\n",
    "response_data_eth = requests.get(eth_url).json()\n",
    "\n",
    "eth_value = response_data_eth[\"data\"][\"1027\"][\"quotes\"][\"CAD\"][\"price\"]\n",
    "\n",
    "# current wallet value\n",
    "\n",
    "my_btc_value = my_btc * btc_value\n",
    "\n",
    "my_eth_value = my_eth * eth_value\n",
    "\n",
    "\n",
    "# print current crypto wallet balance\n",
    "\n",
    "print(f\"The current value of your {my_btc} BTC is ${my_btc_value:0.2f}\")\n",
    "\n",
    "print(f\"The current value of your {my_eth} ETH is ${my_eth_value:0.2f}\")"
   ]
  },
  {
   "cell_type": "code",
   "execution_count": 101,
   "id": "34a1f7fa-1710-49db-a676-50c79fdf0490",
   "metadata": {},
   "outputs": [],
   "source": [
    "# declaring my current amount of shares\n",
    "\n",
    "my_agg = 200\n",
    "\n",
    "my_spy = 50\n"
   ]
  },
  {
   "cell_type": "code",
   "execution_count": 102,
   "id": "85be50b2-9626-4683-bac7-606de45ed598",
   "metadata": {},
   "outputs": [
    {
     "name": "stdout",
     "output_type": "stream",
     "text": [
      "o<class 'str'>\n",
      "o<class 'str'>\n"
     ]
    }
   ],
   "source": [
    "# setting aplaca api\n",
    "\n",
    "alpaca_api_key = os.getenv(\"ALPACA_API_KEY\")\n",
    "\n",
    "alpaca_secret_key = os.getenv(\"ALPACA_SECRET_KEY\")\n",
    "\n",
    "api = trade_api.REST(\n",
    "    \n",
    "    alpaca_api_key,\n",
    "    \n",
    "    alpaca_secret_key,\n",
    "    \n",
    "    api_version=\"v2\"\n",
    "    \n",
    "    )\n",
    "print(f\"o{type(alpaca_api_key)}\")\n",
    "print(f\"o{type(alpaca_secret_key)}\")"
   ]
  },
  {
   "cell_type": "code",
   "execution_count": 103,
   "id": "d4c643dc-842c-4a22-b384-c7f5d2bf816a",
   "metadata": {},
   "outputs": [
    {
     "data": {
      "text/html": [
       "<div>\n",
       "<style scoped>\n",
       "    .dataframe tbody tr th:only-of-type {\n",
       "        vertical-align: middle;\n",
       "    }\n",
       "\n",
       "    .dataframe tbody tr th {\n",
       "        vertical-align: top;\n",
       "    }\n",
       "\n",
       "    .dataframe thead tr th {\n",
       "        text-align: left;\n",
       "    }\n",
       "\n",
       "    .dataframe thead tr:last-of-type th {\n",
       "        text-align: right;\n",
       "    }\n",
       "</style>\n",
       "<table border=\"1\" class=\"dataframe\">\n",
       "  <thead>\n",
       "    <tr>\n",
       "      <th></th>\n",
       "      <th colspan=\"7\" halign=\"left\">AGG</th>\n",
       "      <th colspan=\"7\" halign=\"left\">SPY</th>\n",
       "    </tr>\n",
       "    <tr>\n",
       "      <th></th>\n",
       "      <th>open</th>\n",
       "      <th>high</th>\n",
       "      <th>low</th>\n",
       "      <th>close</th>\n",
       "      <th>volume</th>\n",
       "      <th>trade_count</th>\n",
       "      <th>vwap</th>\n",
       "      <th>open</th>\n",
       "      <th>high</th>\n",
       "      <th>low</th>\n",
       "      <th>close</th>\n",
       "      <th>volume</th>\n",
       "      <th>trade_count</th>\n",
       "      <th>vwap</th>\n",
       "    </tr>\n",
       "    <tr>\n",
       "      <th>timestamp</th>\n",
       "      <th></th>\n",
       "      <th></th>\n",
       "      <th></th>\n",
       "      <th></th>\n",
       "      <th></th>\n",
       "      <th></th>\n",
       "      <th></th>\n",
       "      <th></th>\n",
       "      <th></th>\n",
       "      <th></th>\n",
       "      <th></th>\n",
       "      <th></th>\n",
       "      <th></th>\n",
       "      <th></th>\n",
       "    </tr>\n",
       "  </thead>\n",
       "  <tbody>\n",
       "    <tr>\n",
       "      <th>2022-06-22 04:00:00+00:00</th>\n",
       "      <td>100.67</td>\n",
       "      <td>100.9296</td>\n",
       "      <td>100.665</td>\n",
       "      <td>100.79</td>\n",
       "      <td>9430887</td>\n",
       "      <td>30103</td>\n",
       "      <td>100.802688</td>\n",
       "      <td>370.68</td>\n",
       "      <td>378.72</td>\n",
       "      <td>370.18</td>\n",
       "      <td>374.39</td>\n",
       "      <td>89625876</td>\n",
       "      <td>604343</td>\n",
       "      <td>375.146941</td>\n",
       "    </tr>\n",
       "  </tbody>\n",
       "</table>\n",
       "</div>"
      ],
      "text/plain": [
       "                              AGG                                      \\\n",
       "                             open      high      low   close   volume   \n",
       "timestamp                                                               \n",
       "2022-06-22 04:00:00+00:00  100.67  100.9296  100.665  100.79  9430887   \n",
       "\n",
       "                                                      SPY                  \\\n",
       "                          trade_count        vwap    open    high     low   \n",
       "timestamp                                                                   \n",
       "2022-06-22 04:00:00+00:00       30103  100.802688  370.68  378.72  370.18   \n",
       "\n",
       "                                                                     \n",
       "                            close    volume trade_count        vwap  \n",
       "timestamp                                                            \n",
       "2022-06-22 04:00:00+00:00  374.39  89625876      604343  375.146941  "
      ]
     },
     "execution_count": 103,
     "metadata": {},
     "output_type": "execute_result"
    }
   ],
   "source": [
    "current_date = pd.Timestamp(\"2022-06-22\", tz=\"America/New_York\").isoformat()\n",
    "\n",
    "df_ticker = api.get_bars(\n",
    "    \n",
    "    tickers,\n",
    "    \n",
    "    timeframe,\n",
    "    \n",
    "    start=current_date,\n",
    "    \n",
    "    end=current_date,\n",
    "    \n",
    "    limit = 1000\n",
    "    \n",
    ").df\n",
    "\n",
    "AGG = df_ticker[df_ticker[\"symbol\"]==\"AGG\"].drop(\"symbol\", axis=1)\n",
    "\n",
    "SPY = df_ticker[df_ticker[\"symbol\"]==\"SPY\"].drop(\"symbol\", axis=1)\n",
    "\n",
    "df_ticker = pd.concat([AGG, SPY],axis=1, keys=[\"AGG\",\"SPY\"])\n",
    "\n",
    "timeframe = \"1D\"\n",
    "\n",
    "df_ticker"
   ]
  },
  {
   "cell_type": "code",
   "execution_count": 104,
   "id": "9efcea41-5004-4194-a003-9a4376b3a81e",
   "metadata": {},
   "outputs": [
    {
     "name": "stdout",
     "output_type": "stream",
     "text": [
      "Current AGG closing price: $100.79\n",
      "Current SPY closing price: $374.39\n"
     ]
    }
   ],
   "source": [
    "agg_close_price = df_ticker[\"AGG\"][\"close\"][0]\n",
    "\n",
    "spy_close_price = df_ticker[\"SPY\"][\"close\"][0]\n",
    "\n",
    "print(f\"Current AGG closing price: ${agg_close_price}\")\n",
    "\n",
    "print(f\"Current SPY closing price: ${spy_close_price}\")"
   ]
  },
  {
   "cell_type": "code",
   "execution_count": 105,
   "id": "b62393c2-eb75-4753-8100-cf378b1c955d",
   "metadata": {},
   "outputs": [
    {
     "name": "stdout",
     "output_type": "stream",
     "text": [
      "The current value of your 50 SPY shares is $18719.50\n",
      "The current value of your 200 AGG shares is $20158.00\n"
     ]
    }
   ],
   "source": [
    "my_spy_value = my_spy * spy_close_price\n",
    "\n",
    "my_agg_value = my_agg * agg_close_price\n",
    "\n",
    "print(f\"The current value of your {my_spy} SPY shares is ${my_spy_value:0.2f}\")\n",
    "\n",
    "print(f\"The current value of your {my_agg} AGG shares is ${my_agg_value:0.2f}\")"
   ]
  },
  {
   "cell_type": "code",
   "execution_count": 106,
   "id": "aeff4fe7-60f4-4f3e-a9a9-91d0afcd972d",
   "metadata": {},
   "outputs": [
    {
     "data": {
      "text/html": [
       "<div>\n",
       "<style scoped>\n",
       "    .dataframe tbody tr th:only-of-type {\n",
       "        vertical-align: middle;\n",
       "    }\n",
       "\n",
       "    .dataframe tbody tr th {\n",
       "        vertical-align: top;\n",
       "    }\n",
       "\n",
       "    .dataframe thead th {\n",
       "        text-align: right;\n",
       "    }\n",
       "</style>\n",
       "<table border=\"1\" class=\"dataframe\">\n",
       "  <thead>\n",
       "    <tr style=\"text-align: right;\">\n",
       "      <th></th>\n",
       "      <th>amount</th>\n",
       "    </tr>\n",
       "    <tr>\n",
       "      <th></th>\n",
       "      <th></th>\n",
       "    </tr>\n",
       "  </thead>\n",
       "  <tbody>\n",
       "    <tr>\n",
       "      <th>crypto</th>\n",
       "      <td>39100.058861</td>\n",
       "    </tr>\n",
       "    <tr>\n",
       "      <th>shares</th>\n",
       "      <td>38877.500000</td>\n",
       "    </tr>\n",
       "  </tbody>\n",
       "</table>\n",
       "</div>"
      ],
      "text/plain": [
       "              amount\n",
       "                    \n",
       "crypto  39100.058861\n",
       "shares  38877.500000"
      ]
     },
     "metadata": {},
     "output_type": "display_data"
    }
   ],
   "source": [
    "monthly_income = 12000\n",
    "\n",
    "crypto_savings = [\"crypto\", my_btc_value + my_eth_value]\n",
    "\n",
    "shares_savings = [\"shares\", my_spy_value + my_agg_value]\n",
    "\n",
    "df_savings = pd.DataFrame([crypto_savings, shares_savings],  columns =  [\"\", \"amount\"])\n",
    "\n",
    "df_savings = df_savings.set_index(df_savings.columns[0])\n",
    "\n",
    "display(df_savings)"
   ]
  },
  {
   "cell_type": "code",
   "execution_count": 107,
   "id": "6cb4f607-176f-484c-b0c5-150e46735eae",
   "metadata": {},
   "outputs": [
    {
     "data": {
      "text/plain": [
       "array([<AxesSubplot:ylabel='amount'>], dtype=object)"
      ]
     },
     "execution_count": 107,
     "metadata": {},
     "output_type": "execute_result"
    },
    {
     "data": {
      "image/png": "[encoded data removed]",
      "text/plain": [
       "<Figure size 504x504 with 1 Axes>"
      ]
     },
     "metadata": {},
     "output_type": "display_data"
    }
   ],
   "source": [
    "df_savings.plot(kind=\"pie\", figsize=(7,7), title=\"Composition of Personal Savings\", subplots=True)"
   ]
  },
  {
   "cell_type": "code",
   "execution_count": 112,
   "id": "65995994-6be4-44e6-8176-0dfed165226e",
   "metadata": {},
   "outputs": [
    {
     "name": "stdout",
     "output_type": "stream",
     "text": [
      "Congratulations!! You have enough money in your emergency fund.\n"
     ]
    }
   ],
   "source": [
    "emergency_fund = monthly_income * 3\n",
    "\n",
    "\n",
    "total_savings = df_savings[\"amount\"].sum()\n",
    "\n",
    "total_savings\n",
    "\n",
    "if total_savings > emergency_fund:\n",
    "    \n",
    "    print(\"Congratulations!! You have enough money in your emergency fund.\")\n",
    "    \n",
    "elif total_savings == emergency_fund:\n",
    "    \n",
    "    print(\"Congratulations! You just reached the amount advised for your emergency fund.\")\n",
    "    \n",
    "else:\n",
    "    \n",
    "    print(f\"You are $ {emergency_fund - total_savings} away from completing your emergency fund.\")"
   ]
  },
  {
   "cell_type": "code",
   "execution_count": 113,
   "id": "e3637a75-ff34-4ca1-9e93-cc0c8dd384a4",
   "metadata": {},
   "outputs": [],
   "source": [
    "start_date = pd.Timestamp('2016-12-10', tz='America/New_York').isoformat()\n",
    "\n",
    "end_date = pd.Timestamp('2021-12-10', tz='America/New_York').isoformat()"
   ]
  },
  {
   "cell_type": "code",
   "execution_count": 114,
   "id": "3fe57a1b-f5f4-4c12-b461-17dd70810100",
   "metadata": {},
   "outputs": [
    {
     "data": {
      "text/html": [
       "<div>\n",
       "<style scoped>\n",
       "    .dataframe tbody tr th:only-of-type {\n",
       "        vertical-align: middle;\n",
       "    }\n",
       "\n",
       "    .dataframe tbody tr th {\n",
       "        vertical-align: top;\n",
       "    }\n",
       "\n",
       "    .dataframe thead th {\n",
       "        text-align: right;\n",
       "    }\n",
       "</style>\n",
       "<table border=\"1\" class=\"dataframe\">\n",
       "  <thead>\n",
       "    <tr style=\"text-align: right;\">\n",
       "      <th></th>\n",
       "      <th>open</th>\n",
       "      <th>high</th>\n",
       "      <th>low</th>\n",
       "      <th>close</th>\n",
       "      <th>volume</th>\n",
       "      <th>trade_count</th>\n",
       "      <th>vwap</th>\n",
       "      <th>symbol</th>\n",
       "    </tr>\n",
       "    <tr>\n",
       "      <th>timestamp</th>\n",
       "      <th></th>\n",
       "      <th></th>\n",
       "      <th></th>\n",
       "      <th></th>\n",
       "      <th></th>\n",
       "      <th></th>\n",
       "      <th></th>\n",
       "      <th></th>\n",
       "    </tr>\n",
       "  </thead>\n",
       "  <tbody>\n",
       "    <tr>\n",
       "      <th>2016-12-12 05:00:00+00:00</th>\n",
       "      <td>107.70</td>\n",
       "      <td>107.8200</td>\n",
       "      <td>107.6100</td>\n",
       "      <td>107.74</td>\n",
       "      <td>3074224</td>\n",
       "      <td>13446</td>\n",
       "      <td>107.707448</td>\n",
       "      <td>AGG</td>\n",
       "    </tr>\n",
       "    <tr>\n",
       "      <th>2016-12-13 05:00:00+00:00</th>\n",
       "      <td>107.87</td>\n",
       "      <td>107.9400</td>\n",
       "      <td>107.7101</td>\n",
       "      <td>107.88</td>\n",
       "      <td>3665919</td>\n",
       "      <td>16051</td>\n",
       "      <td>107.836008</td>\n",
       "      <td>AGG</td>\n",
       "    </tr>\n",
       "    <tr>\n",
       "      <th>2016-12-14 05:00:00+00:00</th>\n",
       "      <td>108.07</td>\n",
       "      <td>108.1185</td>\n",
       "      <td>107.2900</td>\n",
       "      <td>107.29</td>\n",
       "      <td>3544087</td>\n",
       "      <td>15612</td>\n",
       "      <td>107.843680</td>\n",
       "      <td>AGG</td>\n",
       "    </tr>\n",
       "    <tr>\n",
       "      <th>2016-12-15 05:00:00+00:00</th>\n",
       "      <td>107.37</td>\n",
       "      <td>107.4200</td>\n",
       "      <td>107.1500</td>\n",
       "      <td>107.16</td>\n",
       "      <td>4619085</td>\n",
       "      <td>15629</td>\n",
       "      <td>107.282233</td>\n",
       "      <td>AGG</td>\n",
       "    </tr>\n",
       "    <tr>\n",
       "      <th>2016-12-16 05:00:00+00:00</th>\n",
       "      <td>107.16</td>\n",
       "      <td>107.3850</td>\n",
       "      <td>107.0600</td>\n",
       "      <td>107.23</td>\n",
       "      <td>2981686</td>\n",
       "      <td>13525</td>\n",
       "      <td>107.239653</td>\n",
       "      <td>AGG</td>\n",
       "    </tr>\n",
       "  </tbody>\n",
       "</table>\n",
       "</div>"
      ],
      "text/plain": [
       "                             open      high       low   close   volume  \\\n",
       "timestamp                                                                \n",
       "2016-12-12 05:00:00+00:00  107.70  107.8200  107.6100  107.74  3074224   \n",
       "2016-12-13 05:00:00+00:00  107.87  107.9400  107.7101  107.88  3665919   \n",
       "2016-12-14 05:00:00+00:00  108.07  108.1185  107.2900  107.29  3544087   \n",
       "2016-12-15 05:00:00+00:00  107.37  107.4200  107.1500  107.16  4619085   \n",
       "2016-12-16 05:00:00+00:00  107.16  107.3850  107.0600  107.23  2981686   \n",
       "\n",
       "                           trade_count        vwap symbol  \n",
       "timestamp                                                  \n",
       "2016-12-12 05:00:00+00:00        13446  107.707448    AGG  \n",
       "2016-12-13 05:00:00+00:00        16051  107.836008    AGG  \n",
       "2016-12-14 05:00:00+00:00        15612  107.843680    AGG  \n",
       "2016-12-15 05:00:00+00:00        15629  107.282233    AGG  \n",
       "2016-12-16 05:00:00+00:00        13525  107.239653    AGG  "
      ]
     },
     "execution_count": 114,
     "metadata": {},
     "output_type": "execute_result"
    }
   ],
   "source": [
    "df_stock_data = api.get_bars(\n",
    "    \n",
    "    tickers,\n",
    "    \n",
    "    timeframe,\n",
    "    \n",
    "    start=start_date,\n",
    "    \n",
    "    end=end_date,\n",
    "    \n",
    "    limit = 1000\n",
    "    \n",
    ").df\n",
    "\n",
    "df_stock_data.head()"
   ]
  },
  {
   "cell_type": "code",
   "execution_count": 115,
   "id": "dd08696e-f894-420d-bfb1-50e038413753",
   "metadata": {},
   "outputs": [
    {
     "ename": "IndexError",
     "evalue": "Too many levels: Index has only 1 level, not 2",
     "output_type": "error",
     "traceback": [
      "\u001b[1;31m---------------------------------------------------------------------------\u001b[0m",
      "\u001b[1;31mIndexError\u001b[0m                                Traceback (most recent call last)",
      "Input \u001b[1;32mIn [115]\u001b[0m, in \u001b[0;36m<cell line: 1>\u001b[1;34m()\u001b[0m\n\u001b[1;32m----> 1\u001b[0m MC_shares \u001b[38;5;241m=\u001b[39m \u001b[43mMCSimulation\u001b[49m\u001b[43m(\u001b[49m\n\u001b[0;32m      2\u001b[0m \u001b[43m    \u001b[49m\n\u001b[0;32m      3\u001b[0m \u001b[43m    \u001b[49m\u001b[43mportfolio_data\u001b[49m\u001b[43m \u001b[49m\u001b[38;5;241;43m=\u001b[39;49m\u001b[43m \u001b[49m\u001b[43mdf_stock_data\u001b[49m\u001b[43m,\u001b[49m\n\u001b[0;32m      4\u001b[0m \u001b[43m    \u001b[49m\n\u001b[0;32m      5\u001b[0m \u001b[43m    \u001b[49m\u001b[43mweights\u001b[49m\u001b[43m \u001b[49m\u001b[38;5;241;43m=\u001b[39;49m\u001b[43m \u001b[49m\u001b[43m[\u001b[49m\u001b[38;5;241;43m.40\u001b[39;49m\u001b[43m,\u001b[49m\u001b[38;5;241;43m.60\u001b[39;49m\u001b[43m]\u001b[49m\u001b[43m,\u001b[49m\n\u001b[0;32m      6\u001b[0m \u001b[43m    \u001b[49m\n\u001b[0;32m      7\u001b[0m \u001b[43m    \u001b[49m\u001b[43mnum_simulation\u001b[49m\u001b[43m \u001b[49m\u001b[38;5;241;43m=\u001b[39;49m\u001b[43m \u001b[49m\u001b[38;5;241;43m500\u001b[39;49m\u001b[43m,\u001b[49m\n\u001b[0;32m      8\u001b[0m \u001b[43m    \u001b[49m\n\u001b[0;32m      9\u001b[0m \u001b[43m    \u001b[49m\u001b[43mnum_trading_days\u001b[49m\u001b[43m \u001b[49m\u001b[38;5;241;43m=\u001b[39;49m\u001b[43m \u001b[49m\u001b[38;5;241;43m252\u001b[39;49m\u001b[38;5;241;43m*\u001b[39;49m\u001b[38;5;241;43m30\u001b[39;49m\n\u001b[0;32m     10\u001b[0m \u001b[43m    \u001b[49m\n\u001b[0;32m     11\u001b[0m \u001b[43m)\u001b[49m\n",
      "File \u001b[1;32m~\\MCSimulation.py:61\u001b[0m, in \u001b[0;36mMCSimulation.__init__\u001b[1;34m(self, portfolio_data, weights, num_simulation, num_trading_days)\u001b[0m\n\u001b[0;32m     58\u001b[0m         \u001b[38;5;28;01mraise\u001b[39;00m \u001b[38;5;167;01mAttributeError\u001b[39;00m(\u001b[38;5;124m\"\u001b[39m\u001b[38;5;124mSum of portfolio weights must equal one.\u001b[39m\u001b[38;5;124m\"\u001b[39m)\n\u001b[0;32m     60\u001b[0m \u001b[38;5;66;03m# Calculate daily return if not within dataframe\u001b[39;00m\n\u001b[1;32m---> 61\u001b[0m \u001b[38;5;28;01mif\u001b[39;00m \u001b[38;5;129;01mnot\u001b[39;00m \u001b[38;5;124m\"\u001b[39m\u001b[38;5;124mdaily_return\u001b[39m\u001b[38;5;124m\"\u001b[39m \u001b[38;5;129;01min\u001b[39;00m \u001b[43mportfolio_data\u001b[49m\u001b[38;5;241;43m.\u001b[39;49m\u001b[43mcolumns\u001b[49m\u001b[38;5;241;43m.\u001b[39;49m\u001b[43mget_level_values\u001b[49m\u001b[43m(\u001b[49m\u001b[38;5;241;43m1\u001b[39;49m\u001b[43m)\u001b[49m\u001b[38;5;241m.\u001b[39munique():\n\u001b[0;32m     62\u001b[0m     close_df \u001b[38;5;241m=\u001b[39m portfolio_data\u001b[38;5;241m.\u001b[39mxs(\u001b[38;5;124m'\u001b[39m\u001b[38;5;124mclose\u001b[39m\u001b[38;5;124m'\u001b[39m,level\u001b[38;5;241m=\u001b[39m\u001b[38;5;241m1\u001b[39m,axis\u001b[38;5;241m=\u001b[39m\u001b[38;5;241m1\u001b[39m)\u001b[38;5;241m.\u001b[39mpct_change()\n\u001b[0;32m     63\u001b[0m     tickers \u001b[38;5;241m=\u001b[39m portfolio_data\u001b[38;5;241m.\u001b[39mcolumns\u001b[38;5;241m.\u001b[39mget_level_values(\u001b[38;5;241m0\u001b[39m)\u001b[38;5;241m.\u001b[39munique()\n",
      "File \u001b[1;32m~\\anaconda3\\lib\\site-packages\\pandas\\core\\indexes\\base.py:2008\u001b[0m, in \u001b[0;36mIndex._get_level_values\u001b[1;34m(self, level)\u001b[0m\n\u001b[0;32m   1972\u001b[0m \u001b[38;5;28;01mdef\u001b[39;00m \u001b[38;5;21m_get_level_values\u001b[39m(\u001b[38;5;28mself\u001b[39m, level) \u001b[38;5;241m-\u001b[39m\u001b[38;5;241m>\u001b[39m Index:\n\u001b[0;32m   1973\u001b[0m     \u001b[38;5;124;03m\"\"\"\u001b[39;00m\n\u001b[0;32m   1974\u001b[0m \u001b[38;5;124;03m    Return an Index of values for requested level.\u001b[39;00m\n\u001b[0;32m   1975\u001b[0m \n\u001b[1;32m   (...)\u001b[0m\n\u001b[0;32m   2006\u001b[0m \u001b[38;5;124;03m    Index(['a', 'b', 'c'], dtype='object')\u001b[39;00m\n\u001b[0;32m   2007\u001b[0m \u001b[38;5;124;03m    \"\"\"\u001b[39;00m\n\u001b[1;32m-> 2008\u001b[0m     \u001b[38;5;28;43mself\u001b[39;49m\u001b[38;5;241;43m.\u001b[39;49m\u001b[43m_validate_index_level\u001b[49m\u001b[43m(\u001b[49m\u001b[43mlevel\u001b[49m\u001b[43m)\u001b[49m\n\u001b[0;32m   2009\u001b[0m     \u001b[38;5;28;01mreturn\u001b[39;00m \u001b[38;5;28mself\u001b[39m\n",
      "File \u001b[1;32m~\\anaconda3\\lib\\site-packages\\pandas\\core\\indexes\\base.py:1927\u001b[0m, in \u001b[0;36mIndex._validate_index_level\u001b[1;34m(self, level)\u001b[0m\n\u001b[0;32m   1922\u001b[0m         \u001b[38;5;28;01mraise\u001b[39;00m \u001b[38;5;167;01mIndexError\u001b[39;00m(\n\u001b[0;32m   1923\u001b[0m             \u001b[38;5;124m\"\u001b[39m\u001b[38;5;124mToo many levels: Index has only 1 level, \u001b[39m\u001b[38;5;124m\"\u001b[39m\n\u001b[0;32m   1924\u001b[0m             \u001b[38;5;124mf\u001b[39m\u001b[38;5;124m\"\u001b[39m\u001b[38;5;132;01m{\u001b[39;00mlevel\u001b[38;5;132;01m}\u001b[39;00m\u001b[38;5;124m is not a valid level number\u001b[39m\u001b[38;5;124m\"\u001b[39m\n\u001b[0;32m   1925\u001b[0m         )\n\u001b[0;32m   1926\u001b[0m     \u001b[38;5;28;01melif\u001b[39;00m level \u001b[38;5;241m>\u001b[39m \u001b[38;5;241m0\u001b[39m:\n\u001b[1;32m-> 1927\u001b[0m         \u001b[38;5;28;01mraise\u001b[39;00m \u001b[38;5;167;01mIndexError\u001b[39;00m(\n\u001b[0;32m   1928\u001b[0m             \u001b[38;5;124mf\u001b[39m\u001b[38;5;124m\"\u001b[39m\u001b[38;5;124mToo many levels: Index has only 1 level, not \u001b[39m\u001b[38;5;132;01m{\u001b[39;00mlevel \u001b[38;5;241m+\u001b[39m \u001b[38;5;241m1\u001b[39m\u001b[38;5;132;01m}\u001b[39;00m\u001b[38;5;124m\"\u001b[39m\n\u001b[0;32m   1929\u001b[0m         )\n\u001b[0;32m   1930\u001b[0m \u001b[38;5;28;01melif\u001b[39;00m level \u001b[38;5;241m!=\u001b[39m \u001b[38;5;28mself\u001b[39m\u001b[38;5;241m.\u001b[39mname:\n\u001b[0;32m   1931\u001b[0m     \u001b[38;5;28;01mraise\u001b[39;00m \u001b[38;5;167;01mKeyError\u001b[39;00m(\n\u001b[0;32m   1932\u001b[0m         \u001b[38;5;124mf\u001b[39m\u001b[38;5;124m\"\u001b[39m\u001b[38;5;124mRequested level (\u001b[39m\u001b[38;5;132;01m{\u001b[39;00mlevel\u001b[38;5;132;01m}\u001b[39;00m\u001b[38;5;124m) does not match index name (\u001b[39m\u001b[38;5;132;01m{\u001b[39;00m\u001b[38;5;28mself\u001b[39m\u001b[38;5;241m.\u001b[39mname\u001b[38;5;132;01m}\u001b[39;00m\u001b[38;5;124m)\u001b[39m\u001b[38;5;124m\"\u001b[39m\n\u001b[0;32m   1933\u001b[0m     )\n",
      "\u001b[1;31mIndexError\u001b[0m: Too many levels: Index has only 1 level, not 2"
     ]
    }
   ],
   "source": [
    "MC_shares = MCSimulation(\n",
    "    \n",
    "    portfolio_data = df_stock_data,\n",
    "    \n",
    "    weights = [.40,.60],\n",
    "    \n",
    "    num_simulation = 500,\n",
    "    \n",
    "    num_trading_days = 252*30\n",
    "    \n",
    ")"
   ]
  },
  {
   "cell_type": "code",
   "execution_count": 116,
   "id": "e90a8cce-c139-4f67-bdc4-eb50986638f1",
   "metadata": {},
   "outputs": [
    {
     "ename": "NameError",
     "evalue": "name 'MC_shares' is not defined",
     "output_type": "error",
     "traceback": [
      "\u001b[1;31m---------------------------------------------------------------------------\u001b[0m",
      "\u001b[1;31mNameError\u001b[0m                                 Traceback (most recent call last)",
      "Input \u001b[1;32mIn [116]\u001b[0m, in \u001b[0;36m<cell line: 1>\u001b[1;34m()\u001b[0m\n\u001b[1;32m----> 1\u001b[0m \u001b[43mMC_shares\u001b[49m\u001b[38;5;241m.\u001b[39mportfolio_data\u001b[38;5;241m.\u001b[39mhead()\n",
      "\u001b[1;31mNameError\u001b[0m: name 'MC_shares' is not defined"
     ]
    }
   ],
   "source": [
    "MC_shares.portfolio_data.head()"
   ]
  },
  {
   "cell_type": "code",
   "execution_count": 117,
   "id": "606d066e-a01a-4256-8d3b-61b703509429",
   "metadata": {},
   "outputs": [
    {
     "ename": "NameError",
     "evalue": "name 'MC_shares' is not defined",
     "output_type": "error",
     "traceback": [
      "\u001b[1;31m---------------------------------------------------------------------------\u001b[0m",
      "\u001b[1;31mNameError\u001b[0m                                 Traceback (most recent call last)",
      "Input \u001b[1;32mIn [117]\u001b[0m, in \u001b[0;36m<cell line: 1>\u001b[1;34m()\u001b[0m\n\u001b[1;32m----> 1\u001b[0m \u001b[43mMC_shares\u001b[49m\u001b[38;5;241m.\u001b[39mcalc_cumulative_return()\n",
      "\u001b[1;31mNameError\u001b[0m: name 'MC_shares' is not defined"
     ]
    }
   ],
   "source": [
    "MC_shares.calc_cumulative_return()"
   ]
  },
  {
   "cell_type": "code",
   "execution_count": 118,
   "id": "7fdde58c-1662-4a67-b9f8-0a838bfcee75",
   "metadata": {},
   "outputs": [
    {
     "ename": "NameError",
     "evalue": "name 'MC_shares' is not defined",
     "output_type": "error",
     "traceback": [
      "\u001b[1;31m---------------------------------------------------------------------------\u001b[0m",
      "\u001b[1;31mNameError\u001b[0m                                 Traceback (most recent call last)",
      "Input \u001b[1;32mIn [118]\u001b[0m, in \u001b[0;36m<cell line: 1>\u001b[1;34m()\u001b[0m\n\u001b[1;32m----> 1\u001b[0m dist_plot \u001b[38;5;241m=\u001b[39m \u001b[43mMC_shares\u001b[49m\u001b[38;5;241m.\u001b[39mplot_distribution()\n",
      "\u001b[1;31mNameError\u001b[0m: name 'MC_shares' is not defined"
     ]
    }
   ],
   "source": [
    "dist_plot = MC_shares.plot_distribution()"
   ]
  },
  {
   "cell_type": "code",
   "execution_count": 119,
   "id": "3ec626e1-22b6-4349-8fc8-175743c48c8f",
   "metadata": {},
   "outputs": [
    {
     "ename": "NameError",
     "evalue": "name 'MC_shares' is not defined",
     "output_type": "error",
     "traceback": [
      "\u001b[1;31m---------------------------------------------------------------------------\u001b[0m",
      "\u001b[1;31mNameError\u001b[0m                                 Traceback (most recent call last)",
      "Input \u001b[1;32mIn [119]\u001b[0m, in \u001b[0;36m<cell line: 1>\u001b[1;34m()\u001b[0m\n\u001b[1;32m----> 1\u001b[0m summary_tbl \u001b[38;5;241m=\u001b[39m \u001b[43mMC_shares\u001b[49m\u001b[38;5;241m.\u001b[39msummarize_cumulative_return()\n",
      "\u001b[1;31mNameError\u001b[0m: name 'MC_shares' is not defined"
     ]
    }
   ],
   "source": [
    "summary_tbl = MC_shares.summarize_cumulative_return()"
   ]
  },
  {
   "cell_type": "code",
   "execution_count": 120,
   "id": "3c1d36e2-d21a-4548-948d-577cd909142f",
   "metadata": {},
   "outputs": [
    {
     "ename": "NameError",
     "evalue": "name 'summary_tbl' is not defined",
     "output_type": "error",
     "traceback": [
      "\u001b[1;31m---------------------------------------------------------------------------\u001b[0m",
      "\u001b[1;31mNameError\u001b[0m                                 Traceback (most recent call last)",
      "Input \u001b[1;32mIn [120]\u001b[0m, in \u001b[0;36m<cell line: 1>\u001b[1;34m()\u001b[0m\n\u001b[1;32m----> 1\u001b[0m \u001b[38;5;28mprint\u001b[39m(\u001b[43msummary_tbl\u001b[49m)\n",
      "\u001b[1;31mNameError\u001b[0m: name 'summary_tbl' is not defined"
     ]
    }
   ],
   "source": [
    "print(summary_tbl)"
   ]
  },
  {
   "cell_type": "code",
   "execution_count": null,
   "id": "c102f97c-a231-4e72-be28-c647f14e1d99",
   "metadata": {},
   "outputs": [],
   "source": []
  }
 ],
 "metadata": {
  "kernelspec": {
   "display_name": "Python 3 (ipykernel)",
   "language": "python",
   "name": "python3"
  },
  "language_info": {
   "codemirror_mode": {
    "name": "ipython",
    "version": 3
   },
   "file_extension": ".py",
   "mimetype": "text/x-python",
   "name": "python",
   "nbconvert_exporter": "python",
   "pygments_lexer": "ipython3",
   "version": "3.9.12"
  }
 },
 "nbformat": 4,
 "nbformat_minor": 5
}
